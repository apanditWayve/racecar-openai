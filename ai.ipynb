{
 "cells": [
  {
   "cell_type": "code",
   "execution_count": 17,
   "id": "018efbaa",
   "metadata": {},
   "outputs": [
    {
     "ename": "ModuleNotFoundError",
     "evalue": "No module named 'opencv'",
     "output_type": "error",
     "traceback": [
      "\u001b[0;31m---------------------------------------------------------------------------\u001b[0m",
      "\u001b[0;31mModuleNotFoundError\u001b[0m                       Traceback (most recent call last)",
      "Input \u001b[0;32mIn [17]\u001b[0m, in \u001b[0;36m<cell line: 5>\u001b[0;34m()\u001b[0m\n\u001b[1;32m      3\u001b[0m \u001b[38;5;28;01mimport\u001b[39;00m \u001b[38;5;21;01mtime\u001b[39;00m\n\u001b[1;32m      4\u001b[0m \u001b[38;5;28;01mimport\u001b[39;00m \u001b[38;5;21;01mnumpy\u001b[39;00m \u001b[38;5;28;01mas\u001b[39;00m \u001b[38;5;21;01mnp\u001b[39;00m\n\u001b[0;32m----> 5\u001b[0m \u001b[38;5;28;01mimport\u001b[39;00m \u001b[38;5;21;01mopencv\u001b[39;00m\n\u001b[1;32m      6\u001b[0m \u001b[38;5;28;01mfrom\u001b[39;00m \u001b[38;5;21;01mIPython\u001b[39;00m \u001b[38;5;28;01mimport\u001b[39;00m display\n\u001b[1;32m      7\u001b[0m get_ipython()\u001b[38;5;241m.\u001b[39mrun_line_magic(\u001b[38;5;124m'\u001b[39m\u001b[38;5;124mmatplotlib\u001b[39m\u001b[38;5;124m'\u001b[39m, \u001b[38;5;124m'\u001b[39m\u001b[38;5;124minline\u001b[39m\u001b[38;5;124m'\u001b[39m)\n",
      "\u001b[0;31mModuleNotFoundError\u001b[0m: No module named 'opencv'"
     ]
    }
   ],
   "source": [
    "import gym\n",
    "from matplotlib import pyplot as plt\n",
    "import time\n",
    "import numpy as np\n",
    "import opencv\n",
    "from IPython import display\n",
    "%matplotlib inline"
   ]
  },
  {
   "cell_type": "code",
   "execution_count": 4,
   "id": "f7fd24b0",
   "metadata": {},
   "outputs": [],
   "source": [
    "env = gym.make(\"CarRacing-v2\", new_step_api=True)\n",
    "env.action_space.seed(42)\n",
    "def reset_env():\n",
    "    observation, info = env.reset(seed=42, return_info=True)\n",
    "    return observation\n",
    "_ = reset_env()"
   ]
  },
  {
   "cell_type": "code",
   "execution_count": 21,
   "id": "8944d630",
   "metadata": {},
   "outputs": [],
   "source": []
  },
  {
   "cell_type": "code",
   "execution_count": 25,
   "id": "8eccfcef",
   "metadata": {},
   "outputs": [
    {
     "name": "stdout",
     "output_type": "stream",
     "text": [
      "{}\n"
     ]
    },
    {
     "data": {
      "text/plain": [
       "(96, 96, 3)"
      ]
     },
     "execution_count": 25,
     "metadata": {},
     "output_type": "execute_result"
    }
   ],
   "source": [
    "print(info)\n",
    "out.shape"
   ]
  },
  {
   "cell_type": "code",
   "execution_count": 18,
   "id": "cc8f471f",
   "metadata": {},
   "outputs": [
    {
     "data": {
      "text/plain": [
       "Box([-1.  0.  0.], 1.0, (3,), float32)"
      ]
     },
     "execution_count": 18,
     "metadata": {},
     "output_type": "execute_result"
    }
   ],
   "source": [
    "# API\n",
    "env.action_space"
   ]
  },
  {
   "cell_type": "code",
   "execution_count": 75,
   "id": "f1bcb41b",
   "metadata": {},
   "outputs": [],
   "source": [
    "#### RANDOM JUST FORWARD\n",
    "reset_env()\n",
    "for i in range(50):\n",
    "    observation, reward, done, info, _ = env.step([0, 100, 0])\n",
    "    if done:\n",
    "        reset_env()\n",
    "#     observation, reward, done, info, _ = env.step(env.action_space.sample())\n",
    "    if i % 3 ==0:\n",
    "#         plt.imshow(observation)\n",
    "        env.render()\n",
    "#         display.display(plt.gcf())\n",
    "#         display.clear_output(wait=True)"
   ]
  },
  {
   "cell_type": "code",
   "execution_count": 25,
   "id": "35075c06",
   "metadata": {},
   "outputs": [],
   "source": [
    "#### AMAZING AI\n",
    "observation = reset_env()\n",
    "for i in range(500):\n",
    "#     print(observation)\n",
    "#     break\n",
    "    action, action_name = get_action(observation)\n",
    "    observation, reward, done, info, _ = env.step(action)\n",
    "    if done:\n",
    "        observation = reset_env()\n",
    "    \n",
    "    env.render()\n",
    "#         plt.imshow(observation)\n",
    "#         display.display(plt.gcf())\n",
    "#         display.clear_output(wait=True)\n",
    "#     if i % 3 ==0:"
   ]
  },
  {
   "cell_type": "code",
   "execution_count": 76,
   "id": "08861bc4",
   "metadata": {},
   "outputs": [
    {
     "data": {
      "image/png": "[encoded data removed]",
      "text/plain": [
       "<Figure size 432x288 with 1 Axes>"
      ]
     },
     "metadata": {
      "needs_background": "light"
     },
     "output_type": "display_data"
    }
   ],
   "source": [
    "plt.imshow(observation)\n",
    "plt.show()"
   ]
  },
  {
   "cell_type": "code",
   "execution_count": 24,
   "id": "511a6c43",
   "metadata": {},
   "outputs": [],
   "source": [
    "FULL_THROTTLE = [0, 1, 0]\n",
    "FULL_LEFT = [-1, 0.1, 0]\n",
    "\n",
    "def get_actionv1(obervation):\n",
    "    if middle_ahead_is_road(observation):\n",
    "        return FULL_THROTTLE\n",
    "\n",
    "def get_actionv2(obervation):\n",
    "    if middle_ahead_is_road(observation):\n",
    "        return FULL_THROTTLE, \"middle_ahead_is_road\"\n",
    "    return FULL_LEFT, \"DEFAULT\"\n",
    "    \n",
    "get_action = get_actionv2"
   ]
  },
  {
   "cell_type": "code",
   "execution_count": 10,
   "id": "8302e7ce",
   "metadata": {},
   "outputs": [],
   "source": [
    "# action functions\n",
    "LIGHT_GREEN = [100, 228, 100]\n",
    "DARK_GREEN = [100, 228, 100]\n",
    "ROAD = [100, 100, 100]\n",
    "\n",
    "def middle_ahead_is_road(observation):\n",
    "    middle = observation[0, 48, :]\n",
    "    return np.linalg.norm(ROAD - middle) < 10\n",
    "    "
   ]
  },
  {
   "cell_type": "code",
   "execution_count": 77,
   "id": "9695edab",
   "metadata": {},
   "outputs": [],
   "source": [
    "color_copy = observation.copy()"
   ]
  },
  {
   "cell_type": "code",
   "execution_count": 78,
   "id": "574b6b88",
   "metadata": {},
   "outputs": [
    {
     "data": {
      "text/plain": [
       "<matplotlib.image.AxesImage at 0x175825f60>"
      ]
     },
     "execution_count": 78,
     "metadata": {},
     "output_type": "execute_result"
    },
    {
     "data": {
      "image/png": "[encoded data removed]",
      "text/plain": [
       "<Figure size 432x288 with 1 Axes>"
      ]
     },
     "metadata": {
      "needs_background": "light"
     },
     "output_type": "display_data"
    }
   ],
   "source": [
    "color_copy[0:2, 30:66, :] = 0\n",
    "plt.imshow(color_copy)\n",
    "# plt.imshow(observation[40:56, 0:10, :])\n"
   ]
  },
  {
   "cell_type": "code",
   "execution_count": 87,
   "id": "d0f780b9",
   "metadata": {},
   "outputs": [
    {
     "name": "stdout",
     "output_type": "stream",
     "text": [
      "left:  [100 228 100]\n",
      "middle:  [100 100 100]\n",
      "right:  [100 228 100]\n"
     ]
    }
   ],
   "source": [
    "LIGHT_GREEN = [100, 228, 100]\n",
    "DARK_GREEN = [100, 228, 100]\n",
    "ROAD = [100, 100, 100]\n",
    "left = observation[0, 30, :]\n",
    "middle = observation[0, 48, :]\n",
    "print(\"left: \", left)\n",
    "print(\"middle: \", middle)\n",
    "print(\"right: \", observation[0, 66, :])"
   ]
  },
  {
   "cell_type": "code",
   "execution_count": 89,
   "id": "a11b0365",
   "metadata": {},
   "outputs": [
    {
     "data": {
      "text/plain": [
       "array([   0, -128,    0])"
      ]
     },
     "execution_count": 89,
     "metadata": {},
     "output_type": "execute_result"
    }
   ],
   "source": [
    "# np.linalg.norm(ROAD - left)\n",
    "ROAD - left"
   ]
  },
  {
   "cell_type": "code",
   "execution_count": null,
   "id": "451251be",
   "metadata": {},
   "outputs": [],
   "source": []
  }
 ],
 "metadata": {
  "kernelspec": {
   "display_name": "Python 3 (ipykernel)",
   "language": "python",
   "name": "python3"
  },
  "language_info": {
   "codemirror_mode": {
    "name": "ipython",
    "version": 3
   },
   "file_extension": ".py",
   "mimetype": "text/x-python",
   "name": "python",
   "nbconvert_exporter": "python",
   "pygments_lexer": "ipython3",
   "version": "3.10.4"
  }
 },
 "nbformat": 4,
 "nbformat_minor": 5
}
