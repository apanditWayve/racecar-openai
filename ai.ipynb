{
 "cells": [
  {
   "cell_type": "code",
   "execution_count": 1,
   "id": "018efbaa",
   "metadata": {},
   "outputs": [],
   "source": [
    "import gym\n",
    "from matplotlib import pyplot as plt\n",
    "import time\n",
    "import numpy as np\n",
    "import scipy\n",
    "import cv2\n",
    "from IPython import display\n",
    "import scipy.optimize\n",
    "%matplotlib inline"
   ]
  },
  {
   "cell_type": "code",
   "execution_count": 4,
   "id": "f0324645",
   "metadata": {},
   "outputs": [],
   "source": [
    "# ACTIONS\n",
    "FULL_AHEAD = [0, 1, 0]\n",
    "HALF_AHEAD = [0, 0.1, 0]\n",
    "FULL_LEFT = [-1, 0.1, 0]\n",
    "FULL_RIGHT = [1, 0.1, 0]\n",
    "NULL_ACTION = [0, 0, 0]\n",
    "\n",
    "# PIXELS\n",
    "LIGHT_GREEN = [100, 228, 100]\n",
    "DARK_GREEN = [100, 228, 100]\n",
    "ROAD = [100, 100, 100]"
   ]
  },
  {
   "cell_type": "code",
   "execution_count": 5,
   "id": "f7fd24b0",
   "metadata": {},
   "outputs": [],
   "source": [
    "env = gym.make(\"CarRacing-v2\", new_step_api=True)\n",
    "env.action_space.seed(42)\n",
    "def reset_env():\n",
    "    observation, info = env.reset(seed=42, return_info=True)\n",
    "    for _ in range(50):\n",
    "        observation, _, _, _, _ = env.step(NULL_ACTION)\n",
    "        \n",
    "    return observation\n",
    "_ = reset_env()"
   ]
  },
  {
   "cell_type": "code",
   "execution_count": null,
   "id": "8944d630",
   "metadata": {},
   "outputs": [],
   "source": []
  },
  {
   "cell_type": "code",
   "execution_count": 4,
   "id": "cc8f471f",
   "metadata": {},
   "outputs": [
    {
     "data": {
      "text/plain": [
       "Box([-1.  0.  0.], 1.0, (3,), float32)"
      ]
     },
     "execution_count": 4,
     "metadata": {},
     "output_type": "execute_result"
    }
   ],
   "source": [
    "# API\n",
    "env.action_space"
   ]
  },
  {
   "cell_type": "code",
   "execution_count": 7,
   "id": "f1bcb41b",
   "metadata": {},
   "outputs": [
    {
     "name": "stderr",
     "output_type": "stream",
     "text": [
      "/opt/homebrew/Caskroom/miniconda/base/envs/hackathon/lib/python3.10/site-packages/gym/core.py:57: DeprecationWarning: \u001b[33mWARN: You are calling render method, but you didn't specified the argument render_mode at environment initialization. To maintain backward compatibility, the environment will render in human mode.\n",
      "If you want to render in human mode, initialize the environment in this way: gym.make('EnvName', render_mode='human') and don't call the render method.\n",
      "See here for more information: https://www.gymlibrary.ml/content/api/\u001b[0m\n",
      "  deprecation(\n"
     ]
    }
   ],
   "source": [
    "#### RANDOM JUST FORWARD\n",
    "reset_env()\n",
    "for i in range(50):\n",
    "    observation, reward, done, info, _ = env.step([0, 100, 0])\n",
    "    if done:\n",
    "        reset_env()\n",
    "#     observation, reward, done, info, _ = env.step(env.action_space.sample())\n",
    "    if i % 3 ==0:\n",
    "#         plt.imshow(observation)\n",
    "        env.render()\n",
    "#         display.display(plt.gcf())\n",
    "#         display.clear_output(wait=True)"
   ]
  },
  {
   "cell_type": "code",
   "execution_count": null,
   "id": "e9a63375",
   "metadata": {},
   "outputs": [],
   "source": []
  },
  {
   "cell_type": "code",
   "execution_count": 18,
   "id": "dfd32280",
   "metadata": {},
   "outputs": [],
   "source": [
    "#### AMAZING AI\n",
    "def get_actionv1(obervation):\n",
    "    \n",
    "    def middle_ahead_is_road():\n",
    "        middle = observation[0, 48, :]\n",
    "        return np.linalg.norm(ROAD - middle) < 10\n",
    "    if middle_ahead_is_road():\n",
    "        return FULL_AHEAD\n",
    "\n",
    "def get_actionv2(obervation):\n",
    "    def middle_ahead_is_road():\n",
    "        middle = observation[25, 48, :]\n",
    "        return np.linalg.norm(ROAD - middle) < 10\n",
    "    \n",
    "    if middle_ahead_is_road():\n",
    "        return HALF_AHEAD, \"middle_ahead_is_road\"\n",
    "    return FULL_LEFT, \"DEFAULT\"\n",
    "    \n",
    "get_action = get_actionv2"
   ]
  },
  {
   "cell_type": "code",
   "execution_count": 23,
   "id": "35075c06",
   "metadata": {},
   "outputs": [],
   "source": [
    "#### AMAZING AI functions\n",
    "observation = reset_env()\n",
    "\n",
    "for i in range(500):\n",
    "    action, action_name = get_action(observation)\n",
    "    observation, reward, done, info, _ = env.step(action)\n",
    "    if done:\n",
    "        observation = reset_env()\n",
    "    \n",
    "    env.render()\n",
    "#         plt.imshow(observation)\n",
    "#         display.display(plt.gcf())\n",
    "#         display.clear_output(wait=True)\n",
    "#     if i % 3 ==0:"
   ]
  },
  {
   "cell_type": "code",
   "execution_count": 76,
   "id": "08861bc4",
   "metadata": {},
   "outputs": [
    {
     "data": {
      "image/png": "[encoded data removed]",
      "text/plain": [
       "<Figure size 432x288 with 1 Axes>"
      ]
     },
     "metadata": {
      "needs_background": "light"
     },
     "output_type": "display_data"
    }
   ],
   "source": [
    "plt.imshow(observation)\n",
    "plt.show()"
   ]
  },
  {
   "cell_type": "code",
   "execution_count": 24,
   "id": "511a6c43",
   "metadata": {},
   "outputs": [],
   "source": [
    "def get_actionv1(obervation):\n",
    "    if middle_ahead_is_road(observation):\n",
    "        return FULL_THROTTLE\n",
    "\n",
    "def get_actionv2(obervation):\n",
    "    if middle_ahead_is_road(observation):\n",
    "        return FULL_THROTTLE, \"middle_ahead_is_road\"\n",
    "    return FULL_LEFT, \"DEFAULT\"\n",
    "    \n",
    "get_action = get_actionv2"
   ]
  },
  {
   "cell_type": "code",
   "execution_count": 41,
   "id": "8302e7ce",
   "metadata": {},
   "outputs": [],
   "source": [
    "# action functions\n",
    "\n",
    "def pixel_is_road(pixel):\n",
    "    np.linalg.norm(ROAD - middle) < 10\n",
    "\n",
    "def middle_ahead_is_road(observation):\n",
    "    middle = observation[0, 48, :]\n",
    "    return pixel_is_road(middle)\n",
    "    "
   ]
  },
  {
   "cell_type": "code",
   "execution_count": 6,
   "id": "9695edab",
   "metadata": {},
   "outputs": [],
   "source": [
    "observation = reset_env()\n",
    "color_copy = observation.copy()"
   ]
  },
  {
   "cell_type": "code",
   "execution_count": 51,
   "id": "4c3fc5fc",
   "metadata": {},
   "outputs": [],
   "source": [
    "def get_mask(observation):\n",
    "    return np.linalg.norm(observation - ROAD, axis=-1) < 10\n",
    "\n",
    "def objective(t, a, b, c, d):\n",
    "    x = a * t + b\n",
    "    y = c * t + d\n",
    "    return x, y\n",
    "\n",
    "def fit_curve(observation):\n",
    "    mask = get_mask(observation)\n",
    "    \n",
    "    h, w, c = observation.shape\n",
    "    w_coords, h_coords = np.meshgrid(np.arange(h), np.arange(w))\n",
    "    out = np.vstack([h_coords[mask], w_coords[mask]])\n",
    "    print(out)\n",
    "    popt, _ = scipy.optimize.curve_fit(objective, range(out, (out[0,:], out[1,:])\n",
    "    print(f\"a={a}, b={b}, c={c}\")\n",
    "    return popt[0], popt[1], popt[2]"
   ]
  },
  {
   "cell_type": "code",
   "execution_count": 45,
   "id": "8d326eea",
   "metadata": {},
   "outputs": [
    {
     "data": {
      "image/png": "[encoded data removed]",
      "text/plain": [
       "<Figure size 432x288 with 1 Axes>"
      ]
     },
     "metadata": {
      "needs_background": "light"
     },
     "output_type": "display_data"
    }
   ],
   "source": [
    "observation = reset_env()\n",
    "for i in range(185):\n",
    "    observation, reward, done, info, _ = env.step(HALF_AHEAD)\n",
    "    if done:\n",
    "        observation = reset_env()\n",
    "    \n",
    "#     env.render()\n",
    "#     print(i)\n",
    "    plt.imshow(observation)\n",
    "#     plt.show()\n",
    "    "
   ]
  },
  {
   "cell_type": "code",
   "execution_count": 46,
   "id": "c2c99713",
   "metadata": {},
   "outputs": [],
   "source": [
    "sharp_left_curve = observation"
   ]
  },
  {
   "cell_type": "code",
   "execution_count": 52,
   "id": "574b6b88",
   "metadata": {},
   "outputs": [
    {
     "data": {
      "image/png": "[encoded data removed]",
      "text/plain": [
       "<Figure size 432x288 with 1 Axes>"
      ]
     },
     "metadata": {
      "needs_background": "light"
     },
     "output_type": "display_data"
    },
    {
     "name": "stdout",
     "output_type": "stream",
     "text": [
      "[[ 2  2  2 ... 88 90 91]\n",
      " [36 37 38 ...  3  5  6]]\n",
      "a=0.010393691183687905, b=-0.7657896920781928, c=3\n"
     ]
    },
    {
     "data": {
      "text/plain": [
       "[<matplotlib.lines.Line2D at 0x16d45e0b0>]"
      ]
     },
     "execution_count": 52,
     "metadata": {},
     "output_type": "execute_result"
    },
    {
     "data": {
      "image/png": "[encoded data removed]",
      "text/plain": [
       "<Figure size 432x288 with 1 Axes>"
      ]
     },
     "metadata": {
      "needs_background": "light"
     },
     "output_type": "display_data"
    }
   ],
   "source": [
    "color_copy[0:2, 30:66, :] = 0\n",
    "plt.imshow(color_copy)\n",
    "plt.show()\n",
    "# low_threshold  = 50\n",
    "# high_threshold = 100\n",
    "# plt.imshow(cv2.Canny(observation, low_threshold, high_threshold))\n",
    "\n",
    "# mask = np.zeros((observation.shape[0], observation.shape[1]))\n",
    "# mask = np.ma.masked_where(ar2%7,ar1)\n",
    "\n",
    "# mask = np.linalg.norm(ROAD - observation)\n",
    "# print(mask.shape)\n",
    "# plt.imshow(mask)\n",
    "# plt.show()\n",
    "\n",
    "# print(out)\n",
    "\n",
    "\n",
    "# x_values = [pixel for pixel in mask[mask==1]]\n",
    "# positions=zip(*np.where(mask == 1))\n",
    "# w_coord, y_coord\n",
    "# print((positions.))\n",
    "# y_values = [mask[1] for mask==1]\n",
    "# y_values = \n",
    "# objective = \n",
    "\n",
    "\n",
    "\n",
    "    \n",
    "a, b, c = fit_curve(sharp_left_curve)\n",
    "\n",
    "x = range(96)\n",
    "y = [objective(x, a, b, c) for x in range(96)]\n",
    "\n",
    "fig, ax = plt.subplots()\n",
    "ax.imshow(sharp_left_curve)\n",
    "ax.plot(y, x, '--', linewidth=5, color='firebrick')\n",
    "\n",
    "\n",
    "# plt.scatter(range(96), [objective(x, a, b) for x in range(96)])\n",
    "# plt.xlim([0,96])\n",
    "# plt.ylim([0,96])\n",
    "\n"
   ]
  },
  {
   "cell_type": "code",
   "execution_count": 87,
   "id": "d0f780b9",
   "metadata": {},
   "outputs": [
    {
     "name": "stdout",
     "output_type": "stream",
     "text": [
      "left:  [100 228 100]\n",
      "middle:  [100 100 100]\n",
      "right:  [100 228 100]\n"
     ]
    }
   ],
   "source": [
    "LIGHT_GREEN = [100, 228, 100]\n",
    "DARK_GREEN = [100, 228, 100]\n",
    "ROAD = [100, 100, 100]\n",
    "left = observation[0, 30, :]\n",
    "middle = observation[0, 48, :]\n",
    "print(\"left: \", left)\n",
    "print(\"middle: \", middle)\n",
    "print(\"right: \", observation[0, 66, :])"
   ]
  },
  {
   "cell_type": "code",
   "execution_count": 89,
   "id": "a11b0365",
   "metadata": {},
   "outputs": [
    {
     "data": {
      "text/plain": [
       "array([   0, -128,    0])"
      ]
     },
     "execution_count": 89,
     "metadata": {},
     "output_type": "execute_result"
    }
   ],
   "source": [
    "# np.linalg.norm(ROAD - left)\n",
    "ROAD - left"
   ]
  },
  {
   "cell_type": "code",
   "execution_count": null,
   "id": "451251be",
   "metadata": {},
   "outputs": [],
   "source": []
  }
 ],
 "metadata": {
  "kernelspec": {
   "display_name": "Python 3 (ipykernel)",
   "language": "python",
   "name": "python3"
  },
  "language_info": {
   "codemirror_mode": {
    "name": "ipython",
    "version": 3
   },
   "file_extension": ".py",
   "mimetype": "text/x-python",
   "name": "python",
   "nbconvert_exporter": "python",
   "pygments_lexer": "ipython3",
   "version": "3.10.4"
  }
 },
 "nbformat": 4,
 "nbformat_minor": 5
}
